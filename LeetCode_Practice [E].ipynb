{
 "cells": [
  {
   "cell_type": "markdown",
   "id": "2137fc45",
   "metadata": {},
   "source": [
    "## LeetCode Practice"
   ]
  },
  {
   "cell_type": "markdown",
   "id": "ee9b8cac",
   "metadata": {},
   "source": [
    "### 1. two sum\n",
    "\n",
    "Input: nums = [2,7,11,15], target = 9 Output: [0,1] Explanation: Because nums[0] + nums[1] == 9, we return [0, 1]."
   ]
  },
  {
   "cell_type": "code",
   "execution_count": 1,
   "id": "7887fea0",
   "metadata": {},
   "outputs": [],
   "source": [
    "nums = [2,7,11,15]\n",
    "target=9"
   ]
  },
  {
   "cell_type": "code",
   "execution_count": 2,
   "id": "3850c40a",
   "metadata": {},
   "outputs": [
    {
     "name": "stdout",
     "output_type": "stream",
     "text": [
      "[0, 1]\n"
     ]
    }
   ],
   "source": [
    "class Solution:\n",
    "    def twoSum(self, List, target):\n",
    "\n",
    "      ii=[]\n",
    "      for a in range(1, len(List)):\n",
    "        if List[a-1] + List[a] == target:\n",
    "          ii.append([a-1,1])\n",
    "          return ii[0]\n",
    "\n",
    "object1 = Solution()\n",
    "print(object1.twoSum(nums,9))"
   ]
  },
  {
   "cell_type": "code",
   "execution_count": 3,
   "id": "d12b8666",
   "metadata": {},
   "outputs": [],
   "source": [
    "nums=[3,2,4]\n",
    "target=6\n",
    "\n",
    "class Solution(object):\n",
    "  def twoSum(self, List, target):\n",
    "    for i in range(len(List)):\n",
    "      for j in range(i+1, len(nums)): #i+1로 위와 차이를 둠.\n",
    "        if List[i] + List[j] == target:\n",
    "          return [i,j]"
   ]
  },
  {
   "cell_type": "code",
   "execution_count": 4,
   "id": "a5136519",
   "metadata": {},
   "outputs": [
    {
     "name": "stdout",
     "output_type": "stream",
     "text": [
      "[1, 2]\n"
     ]
    }
   ],
   "source": [
    "object1 = Solution()\n",
    "print(object1.twoSum(nums,6))"
   ]
  },
  {
   "cell_type": "code",
   "execution_count": 21,
   "id": "68af9ee4",
   "metadata": {},
   "outputs": [],
   "source": [
    "class Solution(object):\n",
    "  def twoSum(self, List, target):\n",
    "    for i in range(len(List)):\n",
    "      for j in range(i+1, len(nums)):\n",
    "        if List[i] != List[j] and List[i] + List[j] == target: #if and 로 변형\n",
    "                return [i,j]"
   ]
  },
  {
   "cell_type": "code",
   "execution_count": 24,
   "id": "d251bf64",
   "metadata": {},
   "outputs": [
    {
     "name": "stdout",
     "output_type": "stream",
     "text": [
      "[0, 1]\n"
     ]
    }
   ],
   "source": [
    "nums = [2,7,11,15]\n",
    "target=9\n",
    "\n",
    "object1 = Solution()\n",
    "print(object1.twoSum(nums,target))"
   ]
  },
  {
   "cell_type": "markdown",
   "id": "09754b7e",
   "metadata": {},
   "source": [
    "### 9. Palindrome Number (Palindrome)\n",
    "\n",
    "Given an integer x, return true if x is palindrome integer. An integer is a palindrome when it reads the same backward as forward. For example, 121 is a palindrome while 123 is not.\n",
    "\n",
    "Input: x = 121\n",
    "Output: true\n",
    "(Explanation: 121 reads as 121 from left to right and from right to left.)\n",
    "\n",
    "Input: x = -121\n",
    "Output: false\n",
    "(Explanation: From left to right, it reads -121. From right to left, it becomes 121-. Therefore it is not a palindrome.)\n",
    "\n",
    "Input: x = 10\n",
    "Output: false\n",
    "(Explanation: Reads 01 from right to left. Therefore it is not a palindrome.)"
   ]
  },
  {
   "cell_type": "code",
   "execution_count": 1,
   "id": "2c09856b",
   "metadata": {},
   "outputs": [],
   "source": [
    "class Solution:\n",
    "    def isPalindrome(self, s):\n",
    "        i2 = ''\n",
    "        for i in s: #int object is not iterable --> 따라서 다시 짜야함.\n",
    "            i2=i + i2\n",
    "        if s==i2:\n",
    "            return 'True'\n",
    "        if s!= i+ i2:\n",
    "            return 'False'"
   ]
  },
  {
   "cell_type": "code",
   "execution_count": 2,
   "id": "44d13369",
   "metadata": {},
   "outputs": [
    {
     "name": "stdout",
     "output_type": "stream",
     "text": [
      "False\n"
     ]
    }
   ],
   "source": [
    "x='-121'\n",
    "object1 = Solution()\n",
    "print(object1.isPalindrome(x))"
   ]
  },
  {
   "cell_type": "code",
   "execution_count": 54,
   "id": "44d3ac84",
   "metadata": {},
   "outputs": [],
   "source": [
    "# 이 코드도 잘 돌아가기는 하는데,...\n",
    "class Solution:\n",
    "    def isPalindrome(self, x):\n",
    "        b=str(x)\n",
    "        for i in x:\n",
    "            a=str(x)[::-1]\n",
    "        if b == a:\n",
    "            return 'True'\n",
    "        if b!= a:\n",
    "            return 'False'"
   ]
  },
  {
   "cell_type": "code",
   "execution_count": 27,
   "id": "075a43dd",
   "metadata": {
    "scrolled": true
   },
   "outputs": [
    {
     "data": {
      "text/plain": [
       "1"
      ]
     },
     "execution_count": 27,
     "metadata": {},
     "output_type": "execute_result"
    }
   ],
   "source": [
    "x=10\n",
    "int(str(x)[::-1]) # -121 은 - 가 안나오고, 10은 0이 무시된 채 1이 써짐"
   ]
  },
  {
   "cell_type": "code",
   "execution_count": 30,
   "id": "84850aec",
   "metadata": {},
   "outputs": [
    {
     "name": "stdout",
     "output_type": "stream",
     "text": [
      "True\n"
     ]
    }
   ],
   "source": [
    "x='121'\n",
    "object1 = Solution()\n",
    "print(object1.isPalindrome(x))"
   ]
  },
  {
   "cell_type": "code",
   "execution_count": 37,
   "id": "87e033d1",
   "metadata": {},
   "outputs": [],
   "source": [
    "class Solution:\n",
    "    def isPalindrome(self, x: int) -> bool:\n",
    "        temp = str(x)\n",
    "        left = 0\n",
    "        right = len(temp)-1\n",
    "        while(left<=right): # while 조건문 -- 조건이 True면 진행, False면 스탑\n",
    "            if temp[left]!=temp[right]:\n",
    "                return False\n",
    "            left+=1\n",
    "            right-=1\n",
    "        \n",
    "        return True"
   ]
  },
  {
   "cell_type": "code",
   "execution_count": 39,
   "id": "e156b151",
   "metadata": {},
   "outputs": [
    {
     "name": "stdout",
     "output_type": "stream",
     "text": [
      "True\n"
     ]
    }
   ],
   "source": [
    "x='121'\n",
    "object1 = Solution()\n",
    "print(object1.isPalindrome(x))"
   ]
  },
  {
   "cell_type": "markdown",
   "id": "aa99fea4",
   "metadata": {},
   "source": [
    "### 13. Roman to Integer (★)\n",
    "\n",
    "Input: s = \"III\" Output: 3 (Explanation: III = 3.)\n",
    "\n",
    "Input: s = \"LVIII\" Output: 58 (Explanation: L = 50, V= 5, III = 3.)\n",
    "\n",
    "Input: s = \"MCMXCIV\" Output: 1994 (Explanation: M = 1000, CM = 900, XC = 90 and IV = 4.)"
   ]
  },
  {
   "cell_type": "code",
   "execution_count": 55,
   "id": "46dd8788",
   "metadata": {},
   "outputs": [],
   "source": [
    "class Solution:\n",
    "    def romanToInt(self, s: str) -> int:\n",
    "        \n",
    "        roman_value={'M':1000,'CM':900,'D':500,'CD':400,'C':100,'XC':90,'L':50,'XL':40,'X':10,'IX':9,'V':5,'IV':4,'I':1} #dict\n",
    "        \n",
    "        value=0\n",
    "        temp=''\n",
    "        cursor=0\n",
    "        while cursor < len(s):\n",
    "            if (cursor+1)!=len(s) and s[cursor+1] in roman_value:\n",
    "                value+=roman_value[s[cursor]+s[cursor+1]]\n",
    "                cursor+=2\n",
    "            else:\n",
    "                value+=roman_value[s[cursor]]\n",
    "                cursor+=1\n",
    "        return value"
   ]
  },
  {
   "cell_type": "code",
   "execution_count": 60,
   "id": "015f0f01",
   "metadata": {},
   "outputs": [
    {
     "name": "stdout",
     "output_type": "stream",
     "text": [
      "1994\n"
     ]
    }
   ],
   "source": [
    "s= \"MCMXCIV\"\n",
    "object1 = Solution()\n",
    "print(object1.romanToInt(s))"
   ]
  },
  {
   "cell_type": "markdown",
   "id": "e0025b2c",
   "metadata": {},
   "source": [
    "### 14. Longest Common Prefix\n",
    "\n",
    "Write a function to find the longest common prefix string amongst an array of strings. If there is no common prefix, return an empty string \"\".\n",
    "\n",
    "Input: strs = [\"flower\",\"flow\",\"flight\"]\n",
    "Output: \"fl\"\n",
    "\n",
    "Input: strs = [\"dog\",\"racecar\",\"car\"]\n",
    "Output: \"\"\n",
    "Explanation: There is no common prefix among the input strings.\n",
    "\n",
    "Constraint : Lower-case English"
   ]
  },
  {
   "cell_type": "code",
   "execution_count": 78,
   "id": "e284979b",
   "metadata": {},
   "outputs": [
    {
     "ename": "TypeError",
     "evalue": "list indices must be integers or slices, not list",
     "output_type": "error",
     "traceback": [
      "\u001b[1;31m---------------------------------------------------------------------------\u001b[0m",
      "\u001b[1;31mTypeError\u001b[0m                                 Traceback (most recent call last)",
      "\u001b[1;32m<ipython-input-78-baacc0dfa029>\u001b[0m in \u001b[0;36m<module>\u001b[1;34m()\u001b[0m\n\u001b[0;32m      1\u001b[0m \u001b[1;31m# vertical scanning\u001b[0m\u001b[1;33m\u001b[0m\u001b[1;33m\u001b[0m\u001b[0m\n\u001b[0;32m      2\u001b[0m \u001b[1;33m\u001b[0m\u001b[0m\n\u001b[1;32m----> 3\u001b[1;33m \u001b[1;32mclass\u001b[0m \u001b[0mSolution\u001b[0m\u001b[1;33m:\u001b[0m\u001b[1;33m\u001b[0m\u001b[0m\n\u001b[0m\u001b[0;32m      4\u001b[0m     \u001b[1;32mdef\u001b[0m \u001b[0mlongestCommonPrefix\u001b[0m\u001b[1;33m(\u001b[0m\u001b[0mself\u001b[0m\u001b[1;33m,\u001b[0m \u001b[0mstrs\u001b[0m\u001b[1;33m:\u001b[0m \u001b[0mList\u001b[0m\u001b[1;33m[\u001b[0m\u001b[0mstr\u001b[0m\u001b[1;33m]\u001b[0m\u001b[1;33m)\u001b[0m \u001b[1;33m->\u001b[0m \u001b[0mstr\u001b[0m\u001b[1;33m:\u001b[0m\u001b[1;33m\u001b[0m\u001b[0m\n\u001b[0;32m      5\u001b[0m \u001b[1;33m\u001b[0m\u001b[0m\n",
      "\u001b[1;32m<ipython-input-78-baacc0dfa029>\u001b[0m in \u001b[0;36mSolution\u001b[1;34m()\u001b[0m\n\u001b[0;32m      2\u001b[0m \u001b[1;33m\u001b[0m\u001b[0m\n\u001b[0;32m      3\u001b[0m \u001b[1;32mclass\u001b[0m \u001b[0mSolution\u001b[0m\u001b[1;33m:\u001b[0m\u001b[1;33m\u001b[0m\u001b[0m\n\u001b[1;32m----> 4\u001b[1;33m     \u001b[1;32mdef\u001b[0m \u001b[0mlongestCommonPrefix\u001b[0m\u001b[1;33m(\u001b[0m\u001b[0mself\u001b[0m\u001b[1;33m,\u001b[0m \u001b[0mstrs\u001b[0m\u001b[1;33m:\u001b[0m \u001b[0mList\u001b[0m\u001b[1;33m[\u001b[0m\u001b[0mstr\u001b[0m\u001b[1;33m]\u001b[0m\u001b[1;33m)\u001b[0m \u001b[1;33m->\u001b[0m \u001b[0mstr\u001b[0m\u001b[1;33m:\u001b[0m\u001b[1;33m\u001b[0m\u001b[0m\n\u001b[0m\u001b[0;32m      5\u001b[0m \u001b[1;33m\u001b[0m\u001b[0m\n\u001b[0;32m      6\u001b[0m         \u001b[1;32mif\u001b[0m \u001b[0mlen\u001b[0m\u001b[1;33m(\u001b[0m\u001b[0mstrs\u001b[0m\u001b[1;33m)\u001b[0m \u001b[1;33m==\u001b[0m \u001b[1;36m0\u001b[0m\u001b[1;33m:\u001b[0m\u001b[1;33m\u001b[0m\u001b[0m\n",
      "\u001b[1;31mTypeError\u001b[0m: list indices must be integers or slices, not list"
     ]
    }
   ],
   "source": [
    "# vertical scanning\n",
    "\n",
    "class Solution:\n",
    "    def longestCommonPrefix(self, strs: List[str]) -> str:\n",
    "        \n",
    "        if len(strs) == 0:\n",
    "            return ''\n",
    "        i = 0\n",
    "        max_count = min(map(lambda x : len(x), strs))  # other way is min(strs, key=len)\n",
    "        \n",
    "        while i < max_count:\n",
    "            char_set = set(map(lambda x : x[i], strs))\n",
    "            if len(char_set) != 1:\n",
    "                return strs[0][:i]\n",
    "            i += 1\n",
    "        return strs[0][:i]"
   ]
  },
  {
   "cell_type": "code",
   "execution_count": 73,
   "id": "721c6998",
   "metadata": {},
   "outputs": [
    {
     "data": {
      "text/plain": [
       "2"
      ]
     },
     "execution_count": 73,
     "metadata": {},
     "output_type": "execute_result"
    }
   ],
   "source": [
    "strs=[\"RR\",\"GG\"]\n",
    "for i in range(len(strs)):\n",
    "    strs[i] = strs[i].lower()\n",
    "    \n",
    "len(set(strs))"
   ]
  },
  {
   "cell_type": "markdown",
   "id": "6acbf0a9",
   "metadata": {},
   "source": [
    "### 3. Longest Substring Without Repeating Characters (Medium Level)\n",
    "\n",
    "Given a string s, find the length of the longest substring without repeating characters. 반복이 없는 가장 긴 글자의 substring을 구하라.\n",
    "\n",
    "Input: s = \"abcabcbb\"\n",
    "Output: 3\n",
    "Explanation: The answer is \"abc\", with the length of 3.\n",
    "\n",
    "Input: s = \"bbbbb\"\n",
    "Output: 1\n",
    "Explanation: The answer is \"b\", with the length of 1.\n",
    "\n",
    "Input: s = \"pwwkew\"\n",
    "Output: 3\n",
    "Explanation: The answer is \"wke\", with the length of 3.\n",
    "Notice that the answer must be a substring, \"pwke\" is a subsequence and not a substring."
   ]
  },
  {
   "cell_type": "code",
   "execution_count": 10,
   "id": "e9c0dd1d",
   "metadata": {},
   "outputs": [],
   "source": [
    "class Solution:\n",
    "    def lengthOfLongestSubstring(self, s: str) -> int:\n",
    "        \n",
    "        start = 0   # 부분 문자열의 첫 문자의 index(초기값:0)\n",
    "        dic = {}    # 문자들의 가장 마지막 위치의 인덱스를 담은 딕셔너리\n",
    "        max_len = 0     # 나온 길이 중 최대 길이\n",
    "        curr_len = 0    # 특정 문자 위치에서 가질 수 있는 최장 부분문자열의 길이\n",
    "        for i, v in enumerate(s):\n",
    "            if v not in dic:    # 처음 나오는 문자면 dic에 등록하고 현재 길이 1 증가\n",
    "                dic[v] = i\n",
    "                curr_len += 1\n",
    "            else:   # 중복되는 문자가 나왔을 때\n",
    "                if dic[v] >= start:     # 현재 부분문자열 내에 중복되는 문자가 포함\n",
    "                    start = dic[v] + 1  # 시작 인덱스 변경\n",
    "                    curr_len = i - dic[v]   # 변경된 현재 길이\n",
    "                    dic[v] = i      # 중복된 문자의 마지막 위치 인덱스 갱신\n",
    "                else:   # 현재 부분문자열 내에 포함되지 않아 영향이 없을 때\n",
    "                    dic[v] = i\n",
    "                    curr_len += 1\n",
    "            \n",
    "            if curr_len > max_len:\n",
    "                max_len = curr_len\n",
    "        \n",
    "        return max_len"
   ]
  },
  {
   "cell_type": "code",
   "execution_count": 11,
   "id": "21904411",
   "metadata": {},
   "outputs": [
    {
     "name": "stdout",
     "output_type": "stream",
     "text": [
      "3\n"
     ]
    }
   ],
   "source": [
    "s=\"abcabcbb\"\n",
    "object1 = Solution()\n",
    "print(object1.lengthOfLongestSubstring(s))"
   ]
  },
  {
   "cell_type": "code",
   "execution_count": 9,
   "id": "46257aae",
   "metadata": {},
   "outputs": [
    {
     "name": "stdout",
     "output_type": "stream",
     "text": [
      "0 a\n",
      "1 b\n",
      "2 c\n",
      "3 a\n",
      "4 b\n",
      "5 c\n",
      "6 b\n",
      "7 b\n"
     ]
    }
   ],
   "source": [
    "for i, v in enumerate(s):\n",
    "    print(i,v)"
   ]
  },
  {
   "cell_type": "code",
   "execution_count": null,
   "id": "7b34be0a",
   "metadata": {},
   "outputs": [],
   "source": []
  },
  {
   "cell_type": "code",
   "execution_count": null,
   "id": "a164bc4d",
   "metadata": {},
   "outputs": [],
   "source": []
  },
  {
   "cell_type": "markdown",
   "id": "0c09b379",
   "metadata": {},
   "source": [
    "3. Longest Substring Without Repeating Characters (Dynammic Programming 동적 프로그래밍 문제)\n",
    "\n",
    "Given a string s, find the length of the longest substring without repeating characters.\n",
    "\n",
    "Input: s = \"abcabcbb\"\n",
    "Output: 3\n",
    "Explanation: The answer is \"abc\", with the length of 3.\n",
    "\n",
    "Input: s = \"bbbbb\"\n",
    "Output: 1\n",
    "Explanation: The answer is \"b\", with the length of 1.\n",
    "\n",
    "Input: s = \"pwwkew\"\n",
    "Output: 3\n",
    "Explanation: The answer is \"wke\", with the length of 3.\n",
    "Notice that the answer must be a substring, \"pwke\" is a subsequence and not a substring."
   ]
  },
  {
   "cell_type": "code",
   "execution_count": 27,
   "id": "9647fa89",
   "metadata": {},
   "outputs": [],
   "source": [
    "# 중복되지 않고 가장 길게 반복되는 글자"
   ]
  },
  {
   "cell_type": "code",
   "execution_count": null,
   "id": "abfcf8f2",
   "metadata": {},
   "outputs": [],
   "source": []
  }
 ],
 "metadata": {
  "kernelspec": {
   "display_name": "Python 3",
   "language": "python",
   "name": "python3"
  },
  "language_info": {
   "codemirror_mode": {
    "name": "ipython",
    "version": 3
   },
   "file_extension": ".py",
   "mimetype": "text/x-python",
   "name": "python",
   "nbconvert_exporter": "python",
   "pygments_lexer": "ipython3",
   "version": "3.6.5"
  }
 },
 "nbformat": 4,
 "nbformat_minor": 5
}
